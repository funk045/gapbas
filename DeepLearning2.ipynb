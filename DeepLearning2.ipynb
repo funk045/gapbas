{
 "cells": [
  {
   "cell_type": "code",
   "execution_count": 1,
   "id": "628cbf66",
   "metadata": {},
   "outputs": [],
   "source": [
    "from sklearn.preprocessing import LabelBinarizer"
   ]
  },
  {
   "cell_type": "code",
   "execution_count": 2,
   "id": "44557a9e",
   "metadata": {},
   "outputs": [],
   "source": [
    "from sklearn.metrics import classification_report"
   ]
  },
  {
   "cell_type": "code",
   "execution_count": 3,
   "id": "a76fcc34",
   "metadata": {},
   "outputs": [],
   "source": [
    "from tensorflow.keras.models import Sequential"
   ]
  },
  {
   "cell_type": "code",
   "execution_count": 4,
   "id": "74a3ca60",
   "metadata": {},
   "outputs": [],
   "source": [
    "from tensorflow.keras.layers import Dense"
   ]
  },
  {
   "cell_type": "code",
   "execution_count": 5,
   "id": "7195877e",
   "metadata": {},
   "outputs": [],
   "source": [
    "from tensorflow.keras.optimizers import SGD"
   ]
  },
  {
   "cell_type": "code",
   "execution_count": 6,
   "id": "68a815c9",
   "metadata": {},
   "outputs": [],
   "source": [
    "from tensorflow.keras.datasets import mnist"
   ]
  },
  {
   "cell_type": "code",
   "execution_count": 7,
   "id": "9c10bc6e",
   "metadata": {},
   "outputs": [],
   "source": [
    "from tensorflow.keras import backend as K"
   ]
  },
  {
   "cell_type": "code",
   "execution_count": 8,
   "id": "4c650b55",
   "metadata": {},
   "outputs": [],
   "source": [
    "import matplotlib.pyplot as plt"
   ]
  },
  {
   "cell_type": "code",
   "execution_count": 9,
   "id": "0e1f172a",
   "metadata": {},
   "outputs": [],
   "source": [
    "import numpy as np"
   ]
  },
  {
   "cell_type": "code",
   "execution_count": 10,
   "id": "057c46cc",
   "metadata": {},
   "outputs": [],
   "source": [
    "import argparse as ap"
   ]
  },
  {
   "cell_type": "code",
   "execution_count": 11,
   "id": "ef5ca6f9",
   "metadata": {},
   "outputs": [
    {
     "name": "stdout",
     "output_type": "stream",
     "text": [
      "[INFO] accessing MNIST...\n"
     ]
    }
   ],
   "source": [
    "print(\"[INFO] accessing MNIST...\")"
   ]
  },
  {
   "cell_type": "code",
   "execution_count": 12,
   "id": "9d92ed75",
   "metadata": {},
   "outputs": [],
   "source": [
    "((trainX, trainY), (testX, testY)) = mnist.load_data()"
   ]
  },
  {
   "cell_type": "code",
   "execution_count": 13,
   "id": "2876046a",
   "metadata": {},
   "outputs": [],
   "source": [
    "trainX = trainX.reshape((trainX.shape[0], 28 * 28 * 1))\n",
    "testX = testX.reshape((testX.shape[0], 28 * 28 * 1))"
   ]
  },
  {
   "cell_type": "code",
   "execution_count": 14,
   "id": "33f12e87",
   "metadata": {},
   "outputs": [],
   "source": [
    "trainX = trainX.astype(\"float32\") / 255.0\n",
    "testX = testX.astype(\"float32\") / 255.0"
   ]
  },
  {
   "cell_type": "code",
   "execution_count": 15,
   "id": "86899f8b",
   "metadata": {},
   "outputs": [],
   "source": [
    "lb = LabelBinarizer()\n",
    "trainY = lb.fit_transform(trainY)\n",
    "testY = lb.transform(testY)"
   ]
  },
  {
   "cell_type": "code",
   "execution_count": 16,
   "id": "e3975dd0",
   "metadata": {},
   "outputs": [],
   "source": [
    "model = Sequential()\n",
    "model.add(Dense(256, input_shape=(784,), activation=\"sigmoid\"))\n",
    "model.add(Dense(128, activation=\"sigmoid\"))\n",
    "model.add(Dense(10, activation=\"softmax\"))"
   ]
  },
  {
   "cell_type": "code",
   "execution_count": 17,
   "id": "d0cfde19",
   "metadata": {
    "scrolled": false
   },
   "outputs": [
    {
     "name": "stdout",
     "output_type": "stream",
     "text": [
      "[INFO] training network...\n",
      "Epoch 1/100\n",
      "469/469 [==============================] - 4s 7ms/step - loss: 2.2802 - accuracy: 0.1968 - val_loss: 2.2385 - val_accuracy: 0.3210\n",
      "Epoch 2/100\n",
      "469/469 [==============================] - 3s 6ms/step - loss: 2.2065 - accuracy: 0.3845 - val_loss: 2.1647 - val_accuracy: 0.4133\n",
      "Epoch 3/100\n",
      "469/469 [==============================] - 3s 6ms/step - loss: 2.1221 - accuracy: 0.5071 - val_loss: 2.0613 - val_accuracy: 0.5864\n",
      "Epoch 4/100\n",
      "469/469 [==============================] - 3s 6ms/step - loss: 1.9991 - accuracy: 0.5791 - val_loss: 1.9105 - val_accuracy: 0.6127\n",
      "Epoch 5/100\n",
      "469/469 [==============================] - 3s 6ms/step - loss: 1.8265 - accuracy: 0.6289 - val_loss: 1.7114 - val_accuracy: 0.6392\n",
      "Epoch 6/100\n",
      "469/469 [==============================] - 3s 6ms/step - loss: 1.6169 - accuracy: 0.6687 - val_loss: 1.4914 - val_accuracy: 0.6992\n",
      "Epoch 7/100\n",
      "469/469 [==============================] - 3s 6ms/step - loss: 1.4055 - accuracy: 0.7059 - val_loss: 1.2889 - val_accuracy: 0.7296\n",
      "Epoch 8/100\n",
      "469/469 [==============================] - 3s 6ms/step - loss: 1.2214 - accuracy: 0.7347 - val_loss: 1.1238 - val_accuracy: 0.7432\n",
      "Epoch 9/100\n",
      "469/469 [==============================] - 3s 5ms/step - loss: 1.0744 - accuracy: 0.7563 - val_loss: 0.9942 - val_accuracy: 0.7792\n",
      "Epoch 10/100\n",
      "469/469 [==============================] - 3s 5ms/step - loss: 0.9609 - accuracy: 0.7756 - val_loss: 0.8950 - val_accuracy: 0.7902\n",
      "Epoch 11/100\n",
      "469/469 [==============================] - 2s 5ms/step - loss: 0.8725 - accuracy: 0.7900 - val_loss: 0.8173 - val_accuracy: 0.8065\n",
      "Epoch 12/100\n",
      "469/469 [==============================] - 3s 6ms/step - loss: 0.8020 - accuracy: 0.8030 - val_loss: 0.7542 - val_accuracy: 0.8141\n",
      "Epoch 13/100\n",
      "469/469 [==============================] - 3s 6ms/step - loss: 0.7442 - accuracy: 0.8142 - val_loss: 0.7019 - val_accuracy: 0.8277\n",
      "Epoch 14/100\n",
      "469/469 [==============================] - 3s 6ms/step - loss: 0.6958 - accuracy: 0.8241 - val_loss: 0.6581 - val_accuracy: 0.8353\n",
      "Epoch 15/100\n",
      "469/469 [==============================] - 3s 6ms/step - loss: 0.6550 - accuracy: 0.8329 - val_loss: 0.6202 - val_accuracy: 0.8429\n",
      "Epoch 16/100\n",
      "469/469 [==============================] - 3s 6ms/step - loss: 0.6201 - accuracy: 0.8395 - val_loss: 0.5879 - val_accuracy: 0.8480\n",
      "Epoch 17/100\n",
      "469/469 [==============================] - 3s 6ms/step - loss: 0.5900 - accuracy: 0.8471 - val_loss: 0.5601 - val_accuracy: 0.8547\n",
      "Epoch 18/100\n",
      "469/469 [==============================] - 3s 6ms/step - loss: 0.5639 - accuracy: 0.8527 - val_loss: 0.5360 - val_accuracy: 0.8590\n",
      "Epoch 19/100\n",
      "469/469 [==============================] - 3s 6ms/step - loss: 0.5412 - accuracy: 0.8580 - val_loss: 0.5143 - val_accuracy: 0.8650\n",
      "Epoch 20/100\n",
      "469/469 [==============================] - 3s 6ms/step - loss: 0.5213 - accuracy: 0.8621 - val_loss: 0.4960 - val_accuracy: 0.8679\n",
      "Epoch 21/100\n",
      "469/469 [==============================] - 3s 6ms/step - loss: 0.5035 - accuracy: 0.8664 - val_loss: 0.4795 - val_accuracy: 0.8720\n",
      "Epoch 22/100\n",
      "469/469 [==============================] - 3s 6ms/step - loss: 0.4878 - accuracy: 0.8701 - val_loss: 0.4645 - val_accuracy: 0.8755\n",
      "Epoch 23/100\n",
      "469/469 [==============================] - 3s 6ms/step - loss: 0.4738 - accuracy: 0.8734 - val_loss: 0.4514 - val_accuracy: 0.8785\n",
      "Epoch 24/100\n",
      "469/469 [==============================] - 3s 7ms/step - loss: 0.4611 - accuracy: 0.8766 - val_loss: 0.4401 - val_accuracy: 0.8821\n",
      "Epoch 25/100\n",
      "469/469 [==============================] - 3s 7ms/step - loss: 0.4499 - accuracy: 0.8789 - val_loss: 0.4290 - val_accuracy: 0.8846\n",
      "Epoch 26/100\n",
      "469/469 [==============================] - 3s 7ms/step - loss: 0.4396 - accuracy: 0.8814 - val_loss: 0.4195 - val_accuracy: 0.8871\n",
      "Epoch 27/100\n",
      "469/469 [==============================] - 3s 7ms/step - loss: 0.4302 - accuracy: 0.8832 - val_loss: 0.4103 - val_accuracy: 0.8890\n",
      "Epoch 28/100\n",
      "469/469 [==============================] - 3s 7ms/step - loss: 0.4218 - accuracy: 0.8851 - val_loss: 0.4028 - val_accuracy: 0.8900\n",
      "Epoch 29/100\n",
      "469/469 [==============================] - 2s 4ms/step - loss: 0.4140 - accuracy: 0.8868 - val_loss: 0.3954 - val_accuracy: 0.8922\n",
      "Epoch 30/100\n",
      "469/469 [==============================] - 2s 4ms/step - loss: 0.4069 - accuracy: 0.8883 - val_loss: 0.3885 - val_accuracy: 0.8935\n",
      "Epoch 31/100\n",
      "469/469 [==============================] - 2s 4ms/step - loss: 0.4004 - accuracy: 0.8897 - val_loss: 0.3826 - val_accuracy: 0.8958\n",
      "Epoch 32/100\n",
      "469/469 [==============================] - 3s 6ms/step - loss: 0.3944 - accuracy: 0.8907 - val_loss: 0.3771 - val_accuracy: 0.8957\n",
      "Epoch 33/100\n",
      "469/469 [==============================] - 3s 6ms/step - loss: 0.3888 - accuracy: 0.8924 - val_loss: 0.3719 - val_accuracy: 0.8968\n",
      "Epoch 34/100\n",
      "469/469 [==============================] - 3s 6ms/step - loss: 0.3837 - accuracy: 0.8934 - val_loss: 0.3670 - val_accuracy: 0.8974\n",
      "Epoch 35/100\n",
      "469/469 [==============================] - 3s 6ms/step - loss: 0.3789 - accuracy: 0.8944 - val_loss: 0.3625 - val_accuracy: 0.8987\n",
      "Epoch 36/100\n",
      "469/469 [==============================] - 3s 6ms/step - loss: 0.3743 - accuracy: 0.8950 - val_loss: 0.3586 - val_accuracy: 0.8996\n",
      "Epoch 37/100\n",
      "469/469 [==============================] - 2s 5ms/step - loss: 0.3702 - accuracy: 0.8961 - val_loss: 0.3543 - val_accuracy: 0.9004\n",
      "Epoch 38/100\n",
      "469/469 [==============================] - 3s 6ms/step - loss: 0.3662 - accuracy: 0.8974 - val_loss: 0.3511 - val_accuracy: 0.9013\n",
      "Epoch 39/100\n",
      "469/469 [==============================] - 3s 6ms/step - loss: 0.3624 - accuracy: 0.8978 - val_loss: 0.3473 - val_accuracy: 0.9022\n",
      "Epoch 40/100\n",
      "469/469 [==============================] - 3s 5ms/step - loss: 0.3589 - accuracy: 0.8990 - val_loss: 0.3437 - val_accuracy: 0.9024\n",
      "Epoch 41/100\n",
      "469/469 [==============================] - 3s 6ms/step - loss: 0.3556 - accuracy: 0.8996 - val_loss: 0.3408 - val_accuracy: 0.9038\n",
      "Epoch 42/100\n",
      "469/469 [==============================] - 3s 6ms/step - loss: 0.3524 - accuracy: 0.9002 - val_loss: 0.3384 - val_accuracy: 0.9040\n",
      "Epoch 43/100\n",
      "469/469 [==============================] - 3s 6ms/step - loss: 0.3493 - accuracy: 0.9011 - val_loss: 0.3358 - val_accuracy: 0.9034\n",
      "Epoch 44/100\n",
      "469/469 [==============================] - 3s 6ms/step - loss: 0.3464 - accuracy: 0.9018 - val_loss: 0.3327 - val_accuracy: 0.9045\n",
      "Epoch 45/100\n",
      "469/469 [==============================] - 3s 6ms/step - loss: 0.3437 - accuracy: 0.9023 - val_loss: 0.3299 - val_accuracy: 0.9057\n",
      "Epoch 46/100\n",
      "469/469 [==============================] - 3s 6ms/step - loss: 0.3411 - accuracy: 0.9028 - val_loss: 0.3277 - val_accuracy: 0.9065\n",
      "Epoch 47/100\n",
      "469/469 [==============================] - 3s 7ms/step - loss: 0.3386 - accuracy: 0.9036 - val_loss: 0.3255 - val_accuracy: 0.9070\n",
      "Epoch 48/100\n",
      "469/469 [==============================] - 3s 7ms/step - loss: 0.3362 - accuracy: 0.9042 - val_loss: 0.3232 - val_accuracy: 0.9071\n",
      "Epoch 49/100\n",
      "469/469 [==============================] - 3s 7ms/step - loss: 0.3338 - accuracy: 0.9045 - val_loss: 0.3215 - val_accuracy: 0.9079\n",
      "Epoch 50/100\n",
      "469/469 [==============================] - 3s 7ms/step - loss: 0.3316 - accuracy: 0.9051 - val_loss: 0.3185 - val_accuracy: 0.9090\n",
      "Epoch 51/100\n",
      "469/469 [==============================] - 3s 7ms/step - loss: 0.3295 - accuracy: 0.9056 - val_loss: 0.3166 - val_accuracy: 0.9091\n",
      "Epoch 52/100\n",
      "469/469 [==============================] - 3s 7ms/step - loss: 0.3273 - accuracy: 0.9063 - val_loss: 0.3150 - val_accuracy: 0.9091\n",
      "Epoch 53/100\n",
      "469/469 [==============================] - 3s 7ms/step - loss: 0.3254 - accuracy: 0.9064 - val_loss: 0.3133 - val_accuracy: 0.9102\n",
      "Epoch 54/100\n",
      "469/469 [==============================] - 3s 6ms/step - loss: 0.3233 - accuracy: 0.9074 - val_loss: 0.3113 - val_accuracy: 0.9114\n",
      "Epoch 55/100\n",
      "469/469 [==============================] - 3s 7ms/step - loss: 0.3214 - accuracy: 0.9074 - val_loss: 0.3097 - val_accuracy: 0.9108\n",
      "Epoch 56/100\n",
      "469/469 [==============================] - 3s 7ms/step - loss: 0.3196 - accuracy: 0.9077 - val_loss: 0.3082 - val_accuracy: 0.9126\n",
      "Epoch 57/100\n",
      "469/469 [==============================] - 3s 7ms/step - loss: 0.3178 - accuracy: 0.9084 - val_loss: 0.3065 - val_accuracy: 0.9129\n",
      "Epoch 58/100\n",
      "469/469 [==============================] - 3s 7ms/step - loss: 0.3161 - accuracy: 0.9090 - val_loss: 0.3050 - val_accuracy: 0.9121\n",
      "Epoch 59/100\n",
      "469/469 [==============================] - 3s 7ms/step - loss: 0.3144 - accuracy: 0.9090 - val_loss: 0.3032 - val_accuracy: 0.9135\n",
      "Epoch 60/100\n",
      "469/469 [==============================] - 3s 7ms/step - loss: 0.3128 - accuracy: 0.9096 - val_loss: 0.3020 - val_accuracy: 0.9131\n",
      "Epoch 61/100\n",
      "469/469 [==============================] - 3s 7ms/step - loss: 0.3111 - accuracy: 0.9100 - val_loss: 0.3009 - val_accuracy: 0.9133\n",
      "Epoch 62/100\n",
      "469/469 [==============================] - 3s 7ms/step - loss: 0.3096 - accuracy: 0.9106 - val_loss: 0.2993 - val_accuracy: 0.9142\n",
      "Epoch 63/100\n",
      "469/469 [==============================] - 3s 7ms/step - loss: 0.3080 - accuracy: 0.9110 - val_loss: 0.2975 - val_accuracy: 0.9145\n",
      "Epoch 64/100\n",
      "469/469 [==============================] - 3s 6ms/step - loss: 0.3065 - accuracy: 0.9117 - val_loss: 0.2967 - val_accuracy: 0.9139\n",
      "Epoch 65/100\n",
      "469/469 [==============================] - 3s 6ms/step - loss: 0.3051 - accuracy: 0.9119 - val_loss: 0.2948 - val_accuracy: 0.9157\n",
      "Epoch 66/100\n",
      "469/469 [==============================] - 3s 7ms/step - loss: 0.3037 - accuracy: 0.9124 - val_loss: 0.2935 - val_accuracy: 0.9159\n",
      "Epoch 67/100\n",
      "469/469 [==============================] - 3s 6ms/step - loss: 0.3023 - accuracy: 0.9126 - val_loss: 0.2923 - val_accuracy: 0.9170\n",
      "Epoch 68/100\n",
      "469/469 [==============================] - 3s 6ms/step - loss: 0.3008 - accuracy: 0.9132 - val_loss: 0.2914 - val_accuracy: 0.9168\n",
      "Epoch 69/100\n",
      "469/469 [==============================] - 3s 7ms/step - loss: 0.2995 - accuracy: 0.9136 - val_loss: 0.2899 - val_accuracy: 0.9171\n",
      "Epoch 70/100\n",
      "469/469 [==============================] - 3s 7ms/step - loss: 0.2982 - accuracy: 0.9136 - val_loss: 0.2888 - val_accuracy: 0.9174\n",
      "Epoch 71/100\n",
      "469/469 [==============================] - 3s 7ms/step - loss: 0.2969 - accuracy: 0.9141 - val_loss: 0.2873 - val_accuracy: 0.9175\n",
      "Epoch 72/100\n",
      "469/469 [==============================] - 3s 6ms/step - loss: 0.2957 - accuracy: 0.9145 - val_loss: 0.2868 - val_accuracy: 0.9176\n",
      "Epoch 73/100\n",
      "469/469 [==============================] - 3s 7ms/step - loss: 0.2944 - accuracy: 0.9150 - val_loss: 0.2852 - val_accuracy: 0.9180\n",
      "Epoch 74/100\n",
      "469/469 [==============================] - 3s 7ms/step - loss: 0.2932 - accuracy: 0.9152 - val_loss: 0.2845 - val_accuracy: 0.9185\n",
      "Epoch 75/100\n",
      "469/469 [==============================] - 3s 7ms/step - loss: 0.2919 - accuracy: 0.9154 - val_loss: 0.2832 - val_accuracy: 0.9188\n",
      "Epoch 76/100\n",
      "469/469 [==============================] - 3s 7ms/step - loss: 0.2908 - accuracy: 0.9159 - val_loss: 0.2821 - val_accuracy: 0.9188\n",
      "Epoch 77/100\n",
      "469/469 [==============================] - 3s 7ms/step - loss: 0.2895 - accuracy: 0.9160 - val_loss: 0.2817 - val_accuracy: 0.9194\n",
      "Epoch 78/100\n",
      "469/469 [==============================] - 3s 6ms/step - loss: 0.2885 - accuracy: 0.9162 - val_loss: 0.2801 - val_accuracy: 0.9195\n",
      "Epoch 79/100\n",
      "469/469 [==============================] - 3s 7ms/step - loss: 0.2873 - accuracy: 0.9165 - val_loss: 0.2793 - val_accuracy: 0.9191\n",
      "Epoch 80/100\n",
      "469/469 [==============================] - 3s 7ms/step - loss: 0.2862 - accuracy: 0.9166 - val_loss: 0.2788 - val_accuracy: 0.9198\n",
      "Epoch 81/100\n",
      "469/469 [==============================] - 3s 7ms/step - loss: 0.2851 - accuracy: 0.9167 - val_loss: 0.2775 - val_accuracy: 0.9200\n",
      "Epoch 82/100\n",
      "469/469 [==============================] - 3s 7ms/step - loss: 0.2840 - accuracy: 0.9173 - val_loss: 0.2760 - val_accuracy: 0.9203\n",
      "Epoch 83/100\n",
      "469/469 [==============================] - 3s 7ms/step - loss: 0.2829 - accuracy: 0.9173 - val_loss: 0.2758 - val_accuracy: 0.9196\n",
      "Epoch 84/100\n",
      "469/469 [==============================] - 3s 7ms/step - loss: 0.2819 - accuracy: 0.9178 - val_loss: 0.2744 - val_accuracy: 0.9204\n",
      "Epoch 85/100\n",
      "469/469 [==============================] - 3s 7ms/step - loss: 0.2808 - accuracy: 0.9181 - val_loss: 0.2738 - val_accuracy: 0.9206\n",
      "Epoch 86/100\n",
      "469/469 [==============================] - 3s 7ms/step - loss: 0.2798 - accuracy: 0.9183 - val_loss: 0.2729 - val_accuracy: 0.9206\n",
      "Epoch 87/100\n",
      "469/469 [==============================] - 3s 7ms/step - loss: 0.2788 - accuracy: 0.9187 - val_loss: 0.2718 - val_accuracy: 0.9216\n",
      "Epoch 88/100\n",
      "469/469 [==============================] - 3s 7ms/step - loss: 0.2778 - accuracy: 0.9188 - val_loss: 0.2708 - val_accuracy: 0.9221\n",
      "Epoch 89/100\n",
      "469/469 [==============================] - 3s 7ms/step - loss: 0.2768 - accuracy: 0.9190 - val_loss: 0.2698 - val_accuracy: 0.9220\n",
      "Epoch 90/100\n",
      "469/469 [==============================] - 3s 7ms/step - loss: 0.2758 - accuracy: 0.9193 - val_loss: 0.2691 - val_accuracy: 0.9218\n",
      "Epoch 91/100\n",
      "469/469 [==============================] - 3s 6ms/step - loss: 0.2749 - accuracy: 0.9197 - val_loss: 0.2683 - val_accuracy: 0.9218\n",
      "Epoch 92/100\n",
      "469/469 [==============================] - 3s 7ms/step - loss: 0.2738 - accuracy: 0.9196 - val_loss: 0.2673 - val_accuracy: 0.9225\n",
      "Epoch 93/100\n",
      "469/469 [==============================] - 3s 7ms/step - loss: 0.2729 - accuracy: 0.9199 - val_loss: 0.2666 - val_accuracy: 0.9231\n",
      "Epoch 94/100\n",
      "469/469 [==============================] - 3s 6ms/step - loss: 0.2719 - accuracy: 0.9200 - val_loss: 0.2653 - val_accuracy: 0.9233\n",
      "Epoch 95/100\n",
      "469/469 [==============================] - 3s 7ms/step - loss: 0.2710 - accuracy: 0.9203 - val_loss: 0.2656 - val_accuracy: 0.9224\n",
      "Epoch 96/100\n",
      "469/469 [==============================] - 3s 6ms/step - loss: 0.2701 - accuracy: 0.9210 - val_loss: 0.2644 - val_accuracy: 0.9240\n",
      "Epoch 97/100\n",
      "469/469 [==============================] - 3s 7ms/step - loss: 0.2692 - accuracy: 0.9210 - val_loss: 0.2634 - val_accuracy: 0.9236\n",
      "Epoch 98/100\n",
      "469/469 [==============================] - 3s 6ms/step - loss: 0.2682 - accuracy: 0.9213 - val_loss: 0.2632 - val_accuracy: 0.9244\n",
      "Epoch 99/100\n",
      "469/469 [==============================] - 3s 7ms/step - loss: 0.2674 - accuracy: 0.9212 - val_loss: 0.2616 - val_accuracy: 0.9245\n",
      "Epoch 100/100\n",
      "469/469 [==============================] - 3s 7ms/step - loss: 0.2665 - accuracy: 0.9218 - val_loss: 0.2609 - val_accuracy: 0.9237\n"
     ]
    }
   ],
   "source": [
    "print(\"[INFO] training network...\")\n",
    "sgd = SGD(0.01)\n",
    "model.compile(loss=\"categorical_crossentropy\", optimizer=sgd,\n",
    "\tmetrics=[\"accuracy\"])\n",
    "H = model.fit(trainX, trainY, validation_data=(testX, testY),\n",
    "\tepochs=100, batch_size=128)"
   ]
  },
  {
   "cell_type": "code",
   "execution_count": 18,
   "id": "4f4d1e64",
   "metadata": {},
   "outputs": [
    {
     "name": "stdout",
     "output_type": "stream",
     "text": [
      "[INFO] evaluating network...\n",
      "79/79 [==============================] - 0s 4ms/step\n",
      "              precision    recall  f1-score   support\n",
      "\n",
      "           0       0.94      0.98      0.96       980\n",
      "           1       0.97      0.98      0.97      1135\n",
      "           2       0.93      0.90      0.91      1032\n",
      "           3       0.90      0.91      0.90      1010\n",
      "           4       0.93      0.93      0.93       982\n",
      "           5       0.90      0.87      0.88       892\n",
      "           6       0.93      0.95      0.94       958\n",
      "           7       0.93      0.92      0.93      1028\n",
      "           8       0.89      0.89      0.89       974\n",
      "           9       0.91      0.91      0.91      1009\n",
      "\n",
      "    accuracy                           0.92     10000\n",
      "   macro avg       0.92      0.92      0.92     10000\n",
      "weighted avg       0.92      0.92      0.92     10000\n",
      "\n"
     ]
    }
   ],
   "source": [
    "print(\"[INFO] evaluating network...\")\n",
    "predictions = model.predict(testX, batch_size=128)\n",
    "print(classification_report(testY.argmax(axis=1),\n",
    "\tpredictions.argmax(axis=1),\n",
    "\ttarget_names=[str(x) for x in lb.classes_]))"
   ]
  },
  {
   "cell_type": "code",
   "execution_count": 19,
   "id": "1ec67728",
   "metadata": {},
   "outputs": [
    {
     "data": {
      "text/plain": [
       "<matplotlib.legend.Legend at 0x27bd85f4400>"
      ]
     },
     "execution_count": 19,
     "metadata": {},
     "output_type": "execute_result"
    },
    {
     "data": {
      "image/png": "[encoded data removed]",
      "text/plain": [
       "<Figure size 640x480 with 1 Axes>"
      ]
     },
     "metadata": {},
     "output_type": "display_data"
    }
   ],
   "source": [
    "plt.style.use(\"ggplot\")\n",
    "plt.figure()\n",
    "plt.plot(np.arange(0, 100), H.history[\"loss\"], label=\"train_loss\")\n",
    "plt.plot(np.arange(0, 100), H.history[\"val_loss\"], label=\"val_loss\")\n",
    "plt.plot(np.arange(0, 100), H.history[\"accuracy\"], label=\"train_acc\")\n",
    "plt.plot(np.arange(0, 100), H.history[\"val_accuracy\"], label=\"val_acc\")\n",
    "plt.title(\"Training Loss and Accuracy\")\n",
    "plt.xlabel(\"Epoch #\")\n",
    "plt.ylabel(\"Loss/Accuracy\")\n",
    "plt.legend()"
   ]
  },
  {
   "cell_type": "code",
   "execution_count": null,
   "id": "c926ed31",
   "metadata": {},
   "outputs": [],
   "source": []
  }
 ],
 "metadata": {
  "kernelspec": {
   "display_name": "Python 3.10.6 64-bit",
   "language": "python",
   "name": "python3"
  },
  "language_info": {
   "codemirror_mode": {
    "name": "ipython",
    "version": 3
   },
   "file_extension": ".py",
   "mimetype": "text/x-python",
   "name": "python",
   "nbconvert_exporter": "python",
   "pygments_lexer": "ipython3",
   "version": "3.10.6"
  },
  "vscode": {
   "interpreter": {
    "hash": "fe3a270ae39cf1081f4fa836efbf82e49d8c89e02fd4895ec82d9d8f75c4ca11"
   }
  }
 },
 "nbformat": 4,
 "nbformat_minor": 5
}
